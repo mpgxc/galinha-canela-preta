{
 "cells": [
  {
   "cell_type": "code",
   "execution_count": 2,
   "id": "74f571dd",
   "metadata": {},
   "outputs": [],
   "source": [
    "import warnings\n",
    "import numpy as np\n",
    "import os, re\n",
    "\n",
    "from tqdm import tqdm\n",
    "from glob import glob\n",
    "from commons import plot\n",
    "from skimage import img_as_ubyte\n",
    "from skimage.io import imsave, imread_collection\n",
    "from skimage.measure import regionprops\n",
    "\n",
    "warnings.filterwarnings('ignore')"
   ]
  },
  {
   "cell_type": "code",
   "execution_count": 3,
   "id": "5a983d54-da94-408f-b822-759bfffa34b2",
   "metadata": {},
   "outputs": [],
   "source": [
    "def find_bighest_cluster_area(clusters):\n",
    "    \n",
    "    regions = regionprops(clusters)\n",
    "\n",
    "    all_areas, *_ = list(map(lambda item: item.area, regions))\n",
    "\n",
    "    return all_areas\n",
    "\n",
    "def local_median(arr):\n",
    "    \n",
    "    arr_sorted = sorted(arr)\n",
    "    size = len(arr)\n",
    "    index = 1\n",
    "    \n",
    "    if size == 1: return arr_sorted[size -1] # [2] -> 2\n",
    "    if size == 2: return arr_sorted[size -1] # [2, 1] => [1, 2] => 2\n",
    "\n",
    "    return arr_sorted[size // 2] if size >= 3 else index # [2, 1, 3] => [1, 2, 3] => 2\n",
    "\n",
    "\n",
    "def find_median_image(path):\n",
    "    images = imread_collection(path)\n",
    "\n",
    "    broilers_frames = list(map(find_bighest_cluster_area, images))\n",
    "    \n",
    "    index_median_image = local_median(broilers_frames)\n",
    "\n",
    "    images_indexes = dict(zip(broilers_frames, images))\n",
    "    \n",
    "    return images_indexes[int(index_median_image)]"
   ]
  },
  {
   "cell_type": "code",
   "execution_count": 4,
   "id": "52181c1d-4a74-4071-9c15-8f5ac4f074b0",
   "metadata": {},
   "outputs": [],
   "source": [
    "def fames_processing(destiny_images, index):\n",
    "    \n",
    "    folder_number, *_ = re.findall(r'\\d+', index)\n",
    "\n",
    "    frame = find_median_image(f'{index}/*')\n",
    "    \n",
    "    imsave(f'{destiny_images}/{folder_number}.png', img_as_ubyte(frame))"
   ]
  },
  {
   "cell_type": "code",
   "execution_count": 5,
   "id": "67e4de6d-ea32-4963-95ca-cfeaf6cc880b",
   "metadata": {},
   "outputs": [],
   "source": [
    "try:\n",
    "    destiny_images = 'outputs/selecteds_unique'\n",
    "    os.mkdir(destiny_images)\n",
    "except: print(\"Pasta já existe!\")"
   ]
  },
  {
   "cell_type": "code",
   "execution_count": 6,
   "id": "d413f2ea-79f8-46cc-a560-7439e8c71ba8",
   "metadata": {},
   "outputs": [
    {
     "name": "stderr",
     "output_type": "stream",
     "text": [
      "100%|██████████████████████████████████████████████████████| 161/161 [00:02<00:00, 65.41it/s]\n"
     ]
    }
   ],
   "source": [
    "for index in tqdm(glob(\"outputs/selecteds/*\")): \n",
    "    fames_processing(destiny_images, index)"
   ]
  },
  {
   "cell_type": "code",
   "execution_count": null,
   "id": "d0cd4ebd-580d-4b81-93f2-85367fd43fbc",
   "metadata": {},
   "outputs": [],
   "source": []
  },
  {
   "cell_type": "code",
   "execution_count": null,
   "id": "703cecb7-70f1-41c3-8311-34975e49bf61",
   "metadata": {},
   "outputs": [],
   "source": []
  }
 ],
 "metadata": {
  "kernelspec": {
   "display_name": "Python 3 (ipykernel)",
   "language": "python",
   "name": "python3"
  },
  "language_info": {
   "codemirror_mode": {
    "name": "ipython",
    "version": 3
   },
   "file_extension": ".py",
   "mimetype": "text/x-python",
   "name": "python",
   "nbconvert_exporter": "python",
   "pygments_lexer": "ipython3",
   "version": "3.9.13"
  },
  "vscode": {
   "interpreter": {
    "hash": "fdc46b14cb09be1956a55a19e685c471199efdbeb24787c52ea715baef0f05de"
   }
  }
 },
 "nbformat": 4,
 "nbformat_minor": 5
}
