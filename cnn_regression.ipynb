{
 "cells": [
  {
   "cell_type": "code",
   "execution_count": 3,
   "id": "5c1d0f1a-6b99-4d3a-8c81-e4031c1186f0",
   "metadata": {},
   "outputs": [],
   "source": [
    "import warnings\n",
    "warnings.filterwarnings(\"ignore\")\n",
    "\n",
    "import pandas as pd\n",
    "import numpy as np\n",
    "import seaborn as sns\n",
    "import matplotlib.pyplot as plt\n",
    "import re\n",
    "import seaborn as sns\n",
    "from tensorflow import keras\n",
    "\n",
    "from tqdm import tqdm \n",
    "from glob import glob\n",
    "from skimage.io import imread\n",
    "from skimage.measure import label, regionprops_table\n",
    "from sklearn import metrics\n",
    "from sklearn.preprocessing import StandardScaler\n",
    "from sklearn.model_selection import train_test_split\n",
    "from sklearn.linear_model import LinearRegression, SGDRegressor\n",
    "from sklearn.ensemble import RandomForestRegressor\n",
    "from scipy import stats\n",
    "from sklearn.pipeline import make_pipeline\n",
    "from sklearn.preprocessing import PolynomialFeatures\n",
    "from tensorflow.keras.optimizers import Adam\n",
    "from skimage import io\n",
    "from keras import backend as K\n",
    "from tensorflow_addons.metrics import RSquare\n",
    "from tensorflow.keras.losses import MeanAbsoluteError, MeanAbsolutePercentageError\n",
    "from skimage import data, color\n",
    "from skimage.transform import resize\n",
    "from keras.regularizers import l2\n",
    "from commons import plot"
   ]
  },
  {
   "cell_type": "code",
   "execution_count": 4,
   "id": "2f477a69-a232-4895-9862-dab9e574fc42",
   "metadata": {},
   "outputs": [],
   "source": [
    "plt.style.use('fivethirtyeight')"
   ]
  },
  {
   "cell_type": "code",
   "execution_count": 5,
   "id": "32fd4175-4f6b-47e3-9f53-c9bb6e473f88",
   "metadata": {},
   "outputs": [],
   "source": [
    "def adjusted_rsquare(y_test, y_pred, x_test):\n",
    "    \n",
    "    return 1 - (1 - metrics.r2_score(y_test, y_pred)) * (len(y_test) - 1) / (len(y_test) - x_test.shape[1] - 1)\n",
    "\n",
    "def plot_cnn_metrics(H):\n",
    "    \n",
    "    plt.figure(figsize=(10, 8))\n",
    "    plt.grid(True)\n",
    "    \n",
    "    \n",
    "    markers = [\"D\", \"o\", \"X\", \"*\", \"H\", \"d\", \"P\", \"p\"]\n",
    "    keys = history.history.keys()\n",
    "    \n",
    "    for index, key in enumerate(keys):\n",
    "        plt.plot(H.history[key], marker=markers[index], lw=1)\n",
    "\n",
    "    plt.legend(keys)\n",
    "\n",
    "    plt.xlabel('Epochs ')\n",
    "    plt.ylabel('Metric')\n",
    "\n",
    "    plt.title(\"Treino\")\n",
    "    \n",
    "\n",
    "def print_evaluate(true, predicted, x_test=None):\n",
    "    \n",
    "    # https://medium.com/turing-talks/como-avaliar-seu-modelo-de-regress%C3%A3o-c2c8d73dab96\n",
    "    \n",
    "    mae = metrics.mean_absolute_error(true, predicted)\n",
    "    mse = metrics.mean_squared_error(true, predicted)\n",
    "    rmse = np.sqrt(metrics.mean_squared_error(true, predicted))\n",
    "    r2_square = metrics.r2_score(true, predicted)\n",
    "    r_square_adjusted = adjusted_rsquare(true, predicted, x_test)\n",
    "    \n",
    "    mape = np.mean(np.abs((true - predicted) / true)) * 100\n",
    "\n",
    "    print('MAE:', mae)\n",
    "    print('MSE:', mse)\n",
    "    print('RMSE:', rmse)\n",
    "    print('MAPE:', mape)\n",
    "    print('R2 score:', r2_square)\n",
    "    print('R2 score Ajustadoa: ', r_square_adjusted)\n",
    "    \n",
    "\n",
    "    \n",
    "def run_all_regressions(X_train, X_test, Y_train, Y_test, regs):\n",
    "\n",
    "    for name, model in regs.items():\n",
    "\n",
    "        model.fit(X_train, Y_train)\n",
    "        \n",
    "        print(f'\\n-----{name}------')\n",
    "        print('[Train] -------------')\n",
    "        print_evaluate(Y_train, model.predict(X_train))\n",
    "\n",
    "        print(\"\\n\")\n",
    "        \n",
    "        print('[Test] --------------')\n",
    "        print_evaluate(Y_test, model.predict(X_test))\n",
    "\n",
    "def create_dataset(path_images):\n",
    "    anilhas = []\n",
    "    paths = []\n",
    "    anilhas_merged = []\n",
    "    paths_merged = []\n",
    "\n",
    "    for index in glob(f\"{path_images}/*\"):\n",
    "        anilha, *_ = re.findall(r'\\d+', index)\n",
    "        all_broilers = glob(index + \"/**\")\n",
    "\n",
    "        anilhas.append([anilha] * len(all_broilers))\n",
    "        paths.append(all_broilers)\n",
    "\n",
    "    for anilha, path in tqdm(zip(anilhas, paths)):\n",
    "        anilhas_merged = np.concatenate([anilhas_merged, anilha])\n",
    "        paths_merged = np.concatenate([paths_merged, path])\n",
    "        \n",
    "    return anilhas_merged.astype(int), paths_merged\n",
    "\n",
    "def labeling_datatset(anilhas, paths):\n",
    "    \n",
    "    df_weights = pd.read_csv(\"annotations.csv\")\n",
    "\n",
    "    df_out = pd.DataFrame({\n",
    "        \"label\": anilhas,\n",
    "        \"path\": paths,\n",
    "        \"weight\": -1\n",
    "\n",
    "    }) \n",
    "\n",
    "    for (index, weight) in zip(df_weights.id,  df_weights.weight):\n",
    "        df_out.weight.iloc[df_out[df_out.label == index].index] = weight\n",
    "    \n",
    "    return df_out\n",
    "\n",
    "def loading_dataset_images(df, x_size=120, y_size=120):\n",
    "    return np.array([resize(imread(path), (x_size, y_size), anti_aliasing=True) \n",
    "                     for path in df.path])"
   ]
  },
  {
   "cell_type": "code",
   "execution_count": null,
   "id": "08cccb5d-bb4d-4d23-9b1c-178b0dea9854",
   "metadata": {},
   "outputs": [],
   "source": [
    "# x_size, y_size = 512 // 2, 424 // 2\n",
    "x_size, y_size = 120, 120"
   ]
  },
  {
   "cell_type": "code",
   "execution_count": 62,
   "id": "08058b2c-e24e-4766-92cc-0a4d7703b7cc",
   "metadata": {},
   "outputs": [
    {
     "name": "stderr",
     "output_type": "stream",
     "text": [
      "160it [00:00, 72036.14it/s]\n"
     ]
    }
   ],
   "source": [
    "#importe imagens de treino\n",
    "anilhas_train, paths_train = create_dataset(\"outputs/selecteds\")\n",
    "df_train = labeling_datatset(anilhas_train, paths_train)\n",
    "\n",
    "images_train =  loading_dataset_images(df_train, x_size, y_size)"
   ]
  },
  {
   "cell_type": "code",
   "execution_count": 186,
   "id": "46788f2f-5fb9-42c0-9006-18c20941ffe6",
   "metadata": {},
   "outputs": [],
   "source": [
    "X_train, X_test, y_train, y_test = train_test_split(images_train, \n",
    "                                                    (df_train.weight.values / 1000).astype(\"float16\"), \n",
    "                                                    test_size=0.3,\n",
    "                                                    random_state=0)\n",
    "\n",
    "anilhas_train, anilhas_test = train_test_split(df_train.label, \n",
    "                                               test_size=0.3,  \n",
    "                                               random_state=0)\n"
   ]
  },
  {
   "cell_type": "code",
   "execution_count": 187,
   "id": "2fac6185-fd3c-48a9-8946-372d0fe551f9",
   "metadata": {},
   "outputs": [],
   "source": [
    "N_TRAIN = len(images_train)\n",
    "BATCH_SIZE = 8\n",
    "EPOCHS=100\n",
    "STEPS_PER_EPOCH = N_TRAIN // BATCH_SIZE"
   ]
  },
  {
   "cell_type": "code",
   "execution_count": 135,
   "id": "75a57711-f9a0-44ad-a85e-56dfc0376f33",
   "metadata": {},
   "outputs": [],
   "source": [
    "model = keras.models.Sequential([\n",
    "    keras.layers.Conv2D(16,\n",
    "                        (5, 5),\n",
    "                        activation='relu',\n",
    "                        padding=\"same\",\n",
    "                        kernel_regularizer=l2(0.01), \n",
    "                        bias_regularizer=l2(0.01), \n",
    "                        input_shape=(x_size, y_size, 1)),\n",
    "    keras.layers.BatchNormalization(),\n",
    "    keras.layers.MaxPooling2D(pool_size=(2, 2), strides=2),\n",
    "    \n",
    "    keras.layers.Conv2D(32,\n",
    "                        (5, 5),\n",
    "                        activation='relu', \n",
    "                        padding=\"same\",\n",
    "                        kernel_regularizer=l2(0.01),\n",
    "                        bias_regularizer=l2(0.01)\n",
    "                       ),\n",
    "    keras.layers.BatchNormalization(),\n",
    "    keras.layers.MaxPooling2D(pool_size=(2, 2), strides=2),\n",
    "    #FC\n",
    "    # keras.layers.Flatten(),\n",
    "    keras.layers.GlobalAveragePooling2D(),\n",
    "\n",
    "    \n",
    "    keras.layers.Dense(64, activation='relu'),\n",
    "    keras.layers.BatchNormalization(),\n",
    "    keras.layers.Dropout(0.3),\n",
    "    \n",
    "    keras.layers.Dense(64, activation='relu'),\n",
    "    keras.layers.BatchNormalization(),\n",
    "    keras.layers.Dropout(0.3),\n",
    "    \n",
    "    keras.layers.Dense(1, activation=\"linear\")\n",
    "])"
   ]
  },
  {
   "cell_type": "code",
   "execution_count": 145,
   "id": "81e7f990-ef26-4e52-a35e-9b3f3193082c",
   "metadata": {},
   "outputs": [],
   "source": [
    "model =  keras.models.Sequential([\n",
    "    keras.layers.Conv2D(filters=32, \n",
    "                        kernel_size=(3, 3),\n",
    "                        activation='relu',\n",
    "                        padding='same',\n",
    "                        input_shape=(x_size, y_size, 1)),\n",
    "    keras.layers.MaxPooling2D(pool_size=(2, 2), strides=2),\n",
    "    \n",
    "    keras.layers.Conv2D(filters=64, \n",
    "                        kernel_size=(3, 3),\n",
    "                        activation='relu', \n",
    "                         padding='same'),\n",
    "    keras.layers.MaxPooling2D(pool_size=(2, 2), strides=2),\n",
    "    \n",
    "    keras.layers.GlobalAveragePooling2D(),\n",
    "    \n",
    "    keras.layers.Dense(64, activation='relu'),\n",
    "    keras.layers.Dense(64, activation='relu'),\n",
    "    keras.layers.Dense(1, activation=\"linear\")\n",
    "])"
   ]
  },
  {
   "cell_type": "code",
   "execution_count": 146,
   "id": "0c0b928a-b401-4522-8406-cf6d95bbace5",
   "metadata": {},
   "outputs": [
    {
     "name": "stdout",
     "output_type": "stream",
     "text": [
      "Model: \"sequential_9\"\n",
      "_________________________________________________________________\n",
      " Layer (type)                Output Shape              Param #   \n",
      "=================================================================\n",
      " conv2d_18 (Conv2D)          (None, 120, 120, 32)      320       \n",
      "                                                                 \n",
      " max_pooling2d_18 (MaxPoolin  (None, 60, 60, 32)       0         \n",
      " g2D)                                                            \n",
      "                                                                 \n",
      " conv2d_19 (Conv2D)          (None, 60, 60, 64)        18496     \n",
      "                                                                 \n",
      " max_pooling2d_19 (MaxPoolin  (None, 30, 30, 64)       0         \n",
      " g2D)                                                            \n",
      "                                                                 \n",
      " global_average_pooling2d_8   (None, 64)               0         \n",
      " (GlobalAveragePooling2D)                                        \n",
      "                                                                 \n",
      " dense_27 (Dense)            (None, 64)                4160      \n",
      "                                                                 \n",
      " dense_28 (Dense)            (None, 64)                4160      \n",
      "                                                                 \n",
      " dense_29 (Dense)            (None, 1)                 65        \n",
      "                                                                 \n",
      "=================================================================\n",
      "Total params: 27,201\n",
      "Trainable params: 27,201\n",
      "Non-trainable params: 0\n",
      "_________________________________________________________________\n"
     ]
    }
   ],
   "source": [
    "model.summary()"
   ]
  },
  {
   "cell_type": "code",
   "execution_count": 147,
   "id": "8007c40a-cc6e-4c78-a99f-7162bb767b58",
   "metadata": {},
   "outputs": [
    {
     "name": "stdout",
     "output_type": "stream",
     "text": [
      "Epoch 1/100\n",
      "55/55 [==============================] - 3s 53ms/step - loss: 0.8194 - r_square: -11.6066 - val_loss: 0.0938 - val_r_square: -0.3968\n",
      "Epoch 2/100\n",
      "55/55 [==============================] - 3s 49ms/step - loss: 0.0938 - r_square: -0.4433 - val_loss: 0.0914 - val_r_square: -0.3610\n",
      "Epoch 3/100\n",
      "55/55 [==============================] - 3s 50ms/step - loss: 0.0847 - r_square: -0.3027 - val_loss: 0.0793 - val_r_square: -0.1810\n",
      "Epoch 4/100\n",
      "55/55 [==============================] - 3s 50ms/step - loss: 0.0805 - r_square: -0.2387 - val_loss: 0.1031 - val_r_square: -0.5362\n",
      "Epoch 5/100\n",
      "55/55 [==============================] - 3s 50ms/step - loss: 0.0749 - r_square: -0.1525 - val_loss: 0.0726 - val_r_square: -0.0813\n",
      "Epoch 6/100\n",
      "55/55 [==============================] - 3s 50ms/step - loss: 0.0717 - r_square: -0.1033 - val_loss: 0.0713 - val_r_square: -0.0629\n",
      "Epoch 7/100\n",
      "55/55 [==============================] - 3s 50ms/step - loss: 0.0691 - r_square: -0.0625 - val_loss: 0.0674 - val_r_square: -0.0038\n",
      "Epoch 8/100\n",
      "55/55 [==============================] - 3s 50ms/step - loss: 0.0682 - r_square: -0.0490 - val_loss: 0.0667 - val_r_square: 0.0060\n",
      "Epoch 9/100\n",
      "55/55 [==============================] - 3s 50ms/step - loss: 0.0657 - r_square: -0.0102 - val_loss: 0.0675 - val_r_square: -0.0051\n",
      "Epoch 10/100\n",
      "55/55 [==============================] - 3s 49ms/step - loss: 0.0679 - r_square: -0.0452 - val_loss: 0.0666 - val_r_square: 0.0075\n",
      "Epoch 11/100\n",
      "55/55 [==============================] - 3s 50ms/step - loss: 0.0664 - r_square: -0.0209 - val_loss: 0.0670 - val_r_square: 0.0015\n",
      "Epoch 12/100\n",
      "55/55 [==============================] - 3s 49ms/step - loss: 0.0689 - r_square: -0.0593 - val_loss: 0.0672 - val_r_square: -0.0012\n",
      "Epoch 13/100\n",
      "55/55 [==============================] - 3s 49ms/step - loss: 0.0675 - r_square: -0.0388 - val_loss: 0.0899 - val_r_square: -0.3399\n",
      "Epoch 14/100\n",
      "55/55 [==============================] - 3s 50ms/step - loss: 0.0679 - r_square: -0.0450 - val_loss: 0.0659 - val_r_square: 0.0180\n",
      "Epoch 15/100\n",
      "55/55 [==============================] - 3s 50ms/step - loss: 0.0658 - r_square: -0.0118 - val_loss: 0.0703 - val_r_square: -0.0477\n",
      "Epoch 16/100\n",
      "55/55 [==============================] - 3s 49ms/step - loss: 0.0689 - r_square: -0.0602 - val_loss: 0.0680 - val_r_square: -0.0124\n",
      "Epoch 17/100\n",
      "55/55 [==============================] - 3s 49ms/step - loss: 0.0667 - r_square: -0.0264 - val_loss: 0.0690 - val_r_square: -0.0273\n",
      "Epoch 18/100\n",
      "55/55 [==============================] - 3s 49ms/step - loss: 0.0646 - r_square: 0.0067 - val_loss: 0.0663 - val_r_square: 0.0126\n",
      "Epoch 19/100\n",
      "55/55 [==============================] - 3s 50ms/step - loss: 0.0647 - r_square: 0.0045 - val_loss: 0.0670 - val_r_square: 0.0022\n",
      "Epoch 20/100\n",
      "55/55 [==============================] - 3s 50ms/step - loss: 0.0648 - r_square: 0.0038 - val_loss: 0.0654 - val_r_square: 0.0253\n",
      "Epoch 21/100\n",
      "55/55 [==============================] - 3s 51ms/step - loss: 0.0718 - r_square: -0.1049 - val_loss: 0.0672 - val_r_square: -8.4281e-04\n",
      "Epoch 22/100\n",
      "55/55 [==============================] - 3s 49ms/step - loss: 0.0704 - r_square: -0.0830 - val_loss: 0.0652 - val_r_square: 0.0292\n",
      "Epoch 23/100\n",
      "55/55 [==============================] - 3s 50ms/step - loss: 0.0653 - r_square: -0.0042 - val_loss: 0.0650 - val_r_square: 0.0321\n",
      "Epoch 24/100\n",
      "55/55 [==============================] - 3s 50ms/step - loss: 0.0672 - r_square: -0.0334 - val_loss: 0.0990 - val_r_square: -0.4742\n",
      "Epoch 25/100\n",
      "55/55 [==============================] - 3s 50ms/step - loss: 0.0715 - r_square: -0.0997 - val_loss: 0.0697 - val_r_square: -0.0377\n",
      "Epoch 26/100\n",
      "55/55 [==============================] - 3s 50ms/step - loss: 0.0694 - r_square: -0.0676 - val_loss: 0.0720 - val_r_square: -0.0720\n",
      "Epoch 27/100\n",
      "55/55 [==============================] - 3s 50ms/step - loss: 0.0683 - r_square: -0.0509 - val_loss: 0.0706 - val_r_square: -0.0523\n",
      "Epoch 28/100\n",
      "55/55 [==============================] - 3s 50ms/step - loss: 0.0652 - r_square: -0.0030 - val_loss: 0.0656 - val_r_square: 0.0221\n",
      "Epoch 29/100\n",
      "55/55 [==============================] - 3s 50ms/step - loss: 0.0654 - r_square: -0.0063 - val_loss: 0.1037 - val_r_square: -0.5449\n",
      "Epoch 30/100\n",
      "55/55 [==============================] - 3s 51ms/step - loss: 0.0776 - r_square: -0.1932 - val_loss: 0.0746 - val_r_square: -0.1111\n",
      "Epoch 31/100\n",
      "55/55 [==============================] - 3s 50ms/step - loss: 0.0636 - r_square: 0.0214 - val_loss: 0.0677 - val_r_square: -0.0082\n",
      "Epoch 32/100\n",
      "55/55 [==============================] - 3s 49ms/step - loss: 0.0610 - r_square: 0.0620 - val_loss: 0.0681 - val_r_square: -0.0140\n",
      "Epoch 33/100\n",
      "55/55 [==============================] - 3s 50ms/step - loss: 0.0639 - r_square: 0.0173 - val_loss: 0.0647 - val_r_square: 0.0365\n",
      "Epoch 34/100\n",
      "55/55 [==============================] - 3s 50ms/step - loss: 0.0645 - r_square: 0.0078 - val_loss: 0.0653 - val_r_square: 0.0274\n",
      "Epoch 35/100\n",
      "55/55 [==============================] - 3s 50ms/step - loss: 0.0623 - r_square: 0.0413 - val_loss: 0.0641 - val_r_square: 0.0453\n",
      "Epoch 36/100\n",
      "55/55 [==============================] - 3s 50ms/step - loss: 0.0639 - r_square: 0.0172 - val_loss: 0.0661 - val_r_square: 0.0157\n",
      "Epoch 37/100\n",
      "55/55 [==============================] - 3s 50ms/step - loss: 0.0616 - r_square: 0.0528 - val_loss: 0.0688 - val_r_square: -0.0256\n",
      "Epoch 38/100\n",
      "55/55 [==============================] - 3s 50ms/step - loss: 0.0606 - r_square: 0.0684 - val_loss: 0.0712 - val_r_square: -0.0614\n",
      "Epoch 39/100\n",
      "55/55 [==============================] - 3s 50ms/step - loss: 0.0603 - r_square: 0.0729 - val_loss: 0.0636 - val_r_square: 0.0531\n",
      "Epoch 40/100\n",
      "55/55 [==============================] - 3s 52ms/step - loss: 0.0604 - r_square: 0.0709 - val_loss: 0.0639 - val_r_square: 0.0486\n",
      "Epoch 41/100\n",
      "55/55 [==============================] - 3s 49ms/step - loss: 0.0594 - r_square: 0.0869 - val_loss: 0.0654 - val_r_square: 0.0251\n",
      "Epoch 42/100\n",
      "55/55 [==============================] - 3s 49ms/step - loss: 0.0617 - r_square: 0.0504 - val_loss: 0.0654 - val_r_square: 0.0261\n",
      "Epoch 43/100\n",
      "55/55 [==============================] - 3s 50ms/step - loss: 0.0594 - r_square: 0.0863 - val_loss: 0.0644 - val_r_square: 0.0408\n",
      "Epoch 44/100\n",
      "55/55 [==============================] - 3s 49ms/step - loss: 0.0589 - r_square: 0.0937 - val_loss: 0.0746 - val_r_square: -0.1118\n",
      "Epoch 45/100\n",
      "55/55 [==============================] - 3s 50ms/step - loss: 0.0653 - r_square: -0.0039 - val_loss: 0.0641 - val_r_square: 0.0452\n",
      "Epoch 46/100\n",
      "55/55 [==============================] - 3s 49ms/step - loss: 0.0616 - r_square: 0.0525 - val_loss: 0.0711 - val_r_square: -0.0587\n",
      "Epoch 47/100\n",
      "55/55 [==============================] - 3s 50ms/step - loss: 0.0610 - r_square: 0.0614 - val_loss: 0.0667 - val_r_square: 0.0065\n",
      "Epoch 48/100\n",
      "55/55 [==============================] - 3s 50ms/step - loss: 0.0613 - r_square: 0.0562 - val_loss: 0.0704 - val_r_square: -0.0490\n",
      "Epoch 49/100\n",
      "55/55 [==============================] - 3s 50ms/step - loss: 0.0592 - r_square: 0.0895 - val_loss: 0.0651 - val_r_square: 0.0306\n",
      "Epoch 50/100\n",
      "55/55 [==============================] - 3s 50ms/step - loss: 0.0574 - r_square: 0.1176 - val_loss: 0.0663 - val_r_square: 0.0123\n",
      "Epoch 51/100\n",
      "55/55 [==============================] - 3s 49ms/step - loss: 0.0594 - r_square: 0.0867 - val_loss: 0.0644 - val_r_square: 0.0413\n",
      "Epoch 52/100\n",
      "55/55 [==============================] - 3s 50ms/step - loss: 0.0593 - r_square: 0.0881 - val_loss: 0.0695 - val_r_square: -0.0357\n",
      "Epoch 53/100\n",
      "55/55 [==============================] - 3s 50ms/step - loss: 0.0635 - r_square: 0.0228 - val_loss: 0.0770 - val_r_square: -0.1472\n",
      "Epoch 54/100\n",
      "55/55 [==============================] - 3s 49ms/step - loss: 0.0669 - r_square: -0.0292 - val_loss: 0.0666 - val_r_square: 0.0080\n",
      "Epoch 55/100\n",
      "55/55 [==============================] - 3s 51ms/step - loss: 0.0605 - r_square: 0.0699 - val_loss: 0.0652 - val_r_square: 0.0285\n",
      "Epoch 56/100\n",
      "55/55 [==============================] - 3s 50ms/step - loss: 0.0593 - r_square: 0.0880 - val_loss: 0.0645 - val_r_square: 0.0392\n",
      "Epoch 57/100\n",
      "55/55 [==============================] - 3s 50ms/step - loss: 0.0573 - r_square: 0.1179 - val_loss: 0.0695 - val_r_square: -0.0359\n",
      "Epoch 58/100\n",
      "55/55 [==============================] - 3s 50ms/step - loss: 0.0646 - r_square: 0.0060 - val_loss: 0.0641 - val_r_square: 0.0453\n",
      "Epoch 59/100\n",
      "55/55 [==============================] - 3s 50ms/step - loss: 0.0600 - r_square: 0.0767 - val_loss: 0.0648 - val_r_square: 0.0342\n",
      "Epoch 60/100\n",
      "55/55 [==============================] - 3s 49ms/step - loss: 0.0589 - r_square: 0.0943 - val_loss: 0.0679 - val_r_square: -0.0111\n",
      "Epoch 61/100\n",
      "55/55 [==============================] - 3s 50ms/step - loss: 0.0601 - r_square: 0.0760 - val_loss: 0.0709 - val_r_square: -0.0566\n",
      "Epoch 62/100\n",
      "55/55 [==============================] - 3s 50ms/step - loss: 0.0577 - r_square: 0.1130 - val_loss: 0.0693 - val_r_square: -0.0329\n",
      "Epoch 63/100\n",
      "55/55 [==============================] - 3s 51ms/step - loss: 0.0628 - r_square: 0.0345 - val_loss: 0.0642 - val_r_square: 0.0442\n",
      "Epoch 64/100\n",
      "55/55 [==============================] - 3s 50ms/step - loss: 0.0591 - r_square: 0.0912 - val_loss: 0.0679 - val_r_square: -0.0117\n",
      "Epoch 65/100\n",
      "55/55 [==============================] - 3s 50ms/step - loss: 0.0612 - r_square: 0.0587 - val_loss: 0.0640 - val_r_square: 0.0464\n",
      "Epoch 66/100\n",
      "55/55 [==============================] - 3s 50ms/step - loss: 0.0601 - r_square: 0.0748 - val_loss: 0.0641 - val_r_square: 0.0454\n",
      "Epoch 67/100\n",
      "55/55 [==============================] - 3s 50ms/step - loss: 0.0616 - r_square: 0.0529 - val_loss: 0.0640 - val_r_square: 0.0460\n",
      "Epoch 68/100\n",
      "55/55 [==============================] - 3s 50ms/step - loss: 0.0594 - r_square: 0.0856 - val_loss: 0.0638 - val_r_square: 0.0497\n",
      "Epoch 69/100\n",
      "55/55 [==============================] - 3s 50ms/step - loss: 0.0587 - r_square: 0.0967 - val_loss: 0.0688 - val_r_square: -0.0249\n",
      "Epoch 70/100\n",
      "55/55 [==============================] - 3s 50ms/step - loss: 0.0583 - r_square: 0.1024 - val_loss: 0.0644 - val_r_square: 0.0408\n",
      "Epoch 71/100\n",
      "55/55 [==============================] - 3s 51ms/step - loss: 0.0613 - r_square: 0.0568 - val_loss: 0.0662 - val_r_square: 0.0142\n",
      "Epoch 72/100\n",
      "55/55 [==============================] - 3s 51ms/step - loss: 0.0603 - r_square: 0.0720 - val_loss: 0.0658 - val_r_square: 0.0204\n",
      "Epoch 73/100\n",
      "55/55 [==============================] - 3s 50ms/step - loss: 0.0624 - r_square: 0.0407 - val_loss: 0.0664 - val_r_square: 0.0113\n",
      "Epoch 74/100\n",
      "55/55 [==============================] - 3s 51ms/step - loss: 0.0609 - r_square: 0.0628 - val_loss: 0.0671 - val_r_square: 7.2199e-04\n",
      "Epoch 75/100\n",
      "55/55 [==============================] - 3s 50ms/step - loss: 0.0585 - r_square: 0.1001 - val_loss: 0.0674 - val_r_square: -0.0043\n",
      "Epoch 76/100\n",
      "55/55 [==============================] - 3s 49ms/step - loss: 0.0590 - r_square: 0.0927 - val_loss: 0.0840 - val_r_square: -0.2520\n",
      "Epoch 77/100\n",
      "55/55 [==============================] - 3s 51ms/step - loss: 0.0644 - r_square: 0.0095 - val_loss: 0.0650 - val_r_square: 0.0319\n",
      "Epoch 78/100\n",
      "55/55 [==============================] - 3s 51ms/step - loss: 0.0579 - r_square: 0.1087 - val_loss: 0.0662 - val_r_square: 0.0137\n",
      "Epoch 79/100\n",
      "55/55 [==============================] - 3s 50ms/step - loss: 0.0615 - r_square: 0.0536 - val_loss: 0.0661 - val_r_square: 0.0147\n",
      "Epoch 80/100\n",
      "55/55 [==============================] - 3s 50ms/step - loss: 0.0579 - r_square: 0.1093 - val_loss: 0.0675 - val_r_square: -0.0049\n",
      "Epoch 81/100\n",
      "55/55 [==============================] - 3s 51ms/step - loss: 0.0616 - r_square: 0.0525 - val_loss: 0.0636 - val_r_square: 0.0527\n",
      "Epoch 82/100\n",
      "55/55 [==============================] - 3s 51ms/step - loss: 0.0584 - r_square: 0.1017 - val_loss: 0.0804 - val_r_square: -0.1975\n",
      "Epoch 83/100\n",
      "55/55 [==============================] - 3s 50ms/step - loss: 0.0572 - r_square: 0.1203 - val_loss: 0.0651 - val_r_square: 0.0298\n",
      "Epoch 84/100\n",
      "55/55 [==============================] - 3s 57ms/step - loss: 0.0622 - r_square: 0.0438 - val_loss: 0.0656 - val_r_square: 0.0232\n",
      "Epoch 85/100\n",
      "55/55 [==============================] - 3s 54ms/step - loss: 0.0568 - r_square: 0.1255 - val_loss: 0.0626 - val_r_square: 0.0671\n",
      "Epoch 86/100\n",
      "55/55 [==============================] - 3s 51ms/step - loss: 0.0579 - r_square: 0.1090 - val_loss: 0.0668 - val_r_square: 0.0047\n",
      "Epoch 87/100\n",
      "55/55 [==============================] - 3s 51ms/step - loss: 0.0588 - r_square: 0.0955 - val_loss: 0.0623 - val_r_square: 0.0715\n",
      "Epoch 88/100\n",
      "55/55 [==============================] - 3s 60ms/step - loss: 0.0583 - r_square: 0.1032 - val_loss: 0.0620 - val_r_square: 0.0761\n",
      "Epoch 89/100\n",
      "55/55 [==============================] - 3s 57ms/step - loss: 0.0557 - r_square: 0.1425 - val_loss: 0.0700 - val_r_square: -0.0426\n",
      "Epoch 90/100\n",
      "55/55 [==============================] - 3s 54ms/step - loss: 0.0588 - r_square: 0.0961 - val_loss: 0.0617 - val_r_square: 0.0815\n",
      "Epoch 91/100\n",
      "55/55 [==============================] - 3s 50ms/step - loss: 0.0570 - r_square: 0.1232 - val_loss: 0.0620 - val_r_square: 0.0769\n",
      "Epoch 92/100\n",
      "55/55 [==============================] - 3s 50ms/step - loss: 0.0592 - r_square: 0.0889 - val_loss: 0.0697 - val_r_square: -0.0386\n",
      "Epoch 93/100\n",
      "55/55 [==============================] - 3s 50ms/step - loss: 0.0572 - r_square: 0.1197 - val_loss: 0.0618 - val_r_square: 0.0788\n",
      "Epoch 94/100\n",
      "55/55 [==============================] - 3s 50ms/step - loss: 0.0595 - r_square: 0.0849 - val_loss: 0.0644 - val_r_square: 0.0407\n",
      "Epoch 95/100\n",
      "55/55 [==============================] - 3s 51ms/step - loss: 0.0632 - r_square: 0.0275 - val_loss: 0.0620 - val_r_square: 0.0771\n",
      "Epoch 96/100\n",
      "55/55 [==============================] - 3s 50ms/step - loss: 0.0574 - r_square: 0.1163 - val_loss: 0.0657 - val_r_square: 0.0217\n",
      "Epoch 97/100\n",
      "55/55 [==============================] - 3s 50ms/step - loss: 0.0594 - r_square: 0.0861 - val_loss: 0.0612 - val_r_square: 0.0879\n",
      "Epoch 98/100\n",
      "55/55 [==============================] - 3s 51ms/step - loss: 0.0581 - r_square: 0.1060 - val_loss: 0.0613 - val_r_square: 0.0861\n",
      "Epoch 99/100\n",
      "55/55 [==============================] - 3s 52ms/step - loss: 0.0601 - r_square: 0.0749 - val_loss: 0.0641 - val_r_square: 0.0450\n",
      "Epoch 100/100\n",
      "55/55 [==============================] - 3s 50ms/step - loss: 0.0561 - r_square: 0.1376 - val_loss: 0.0653 - val_r_square: 0.0279\n"
     ]
    }
   ],
   "source": [
    "model.compile(loss=\"mean_squared_error\", \n",
    "              optimizer=keras.optimizers.Adam(learning_rate=0.001), \n",
    "              metrics=[RSquare()])\n",
    "\n",
    "# early_stop = keras.callbacks.EarlyStopping(monitor='val_loss', \n",
    "#                                            patience=10,\n",
    "#                                            mode='min',\n",
    "#                                            restore_best_weights=True,\n",
    "#                                            verbose=1,)\n",
    "\n",
    "# reduce_lr = keras.callbacks.ReduceLROnPlateau(monitor='val_loss', \n",
    "#                                               factor=0.01, \n",
    "#                                               patience=5,\n",
    "#                                               min_lr=0.00001,\n",
    "#                                               verbose=1, \n",
    "#                                               mode='min')\n",
    "\n",
    "history = model.fit(X_train,\n",
    "                    y_train,\n",
    "                    validation_split=0.3,\n",
    "                    epochs=EPOCHS,\n",
    "                    # shuffle=True,\n",
    "                    batch_size=BATCH_SIZE)"
   ]
  },
  {
   "cell_type": "code",
   "execution_count": 188,
   "id": "233e7831-cb55-401b-a6b5-752e613b1dbb",
   "metadata": {},
   "outputs": [
    {
     "data": {
      "image/png": "[encoded data removed]",
      "text/plain": [
       "<Figure size 1000x800 with 1 Axes>"
      ]
     },
     "metadata": {},
     "output_type": "display_data"
    }
   ],
   "source": [
    "plot_cnn_metrics(history)"
   ]
  },
  {
   "cell_type": "code",
   "execution_count": 189,
   "id": "109fef63-9294-4400-b993-1f2bcc70a522",
   "metadata": {},
   "outputs": [
    {
     "name": "stdout",
     "output_type": "stream",
     "text": [
      "20/20 [==============================] - 1s 36ms/step\n",
      "MAE: 0.1826\n",
      "MSE: 0.05988\n",
      "RMSE: 0.2448\n",
      "MAPE: 11.016845703125\n",
      "R2 score: 0.08795126538610576\n",
      "R2 score Ajustadoa:  -0.1283448772100746\n"
     ]
    }
   ],
   "source": [
    "y_train_preds = model.predict(np.asarray(X_train)).reshape(-1)\n",
    "print_evaluate(y_train, y_train_preds.astype(\"float16\"), X_train)"
   ]
  },
  {
   "cell_type": "code",
   "execution_count": 190,
   "id": "4bb14ec0-de03-464a-8982-94e7751730a1",
   "metadata": {},
   "outputs": [
    {
     "name": "stdout",
     "output_type": "stream",
     "text": [
      "9/9 [==============================] - 0s 36ms/step\n",
      "MAE: 0.1833\n",
      "MSE: 0.063\n",
      "RMSE: 0.251\n",
      "MAPE: 11.0107421875\n",
      "R2 score: 0.029638762197632507\n",
      "R2 score Ajustadoa:  -0.7518602212673615\n"
     ]
    }
   ],
   "source": [
    "y_test_preds = model.predict(np.asarray(X_test)).reshape(-1)\n",
    "print_evaluate(y_test, y_test_preds.astype(\"float16\"), X_test)"
   ]
  },
  {
   "cell_type": "code",
   "execution_count": 191,
   "id": "48f8c5ab-528b-4fd3-b0fa-0362ffea6ea7",
   "metadata": {},
   "outputs": [
    {
     "data": {
      "text/plain": [
       "array([1.77 , 1.925, 1.54 , 2.246, 1.712, 1.72 , 1.712, 1.69 , 2.14 ,\n",
       "       1.53 , 1.557, 1.74 , 1.77 , 1.77 , 1.54 , 1.867, 1.93 , 1.924,\n",
       "       1.924, 1.458, 1.89 , 1.825, 1.98 , 2.004, 1.93 , 1.77 , 1.74 ,\n",
       "       1.924, 1.474, 2.45 , 2.23 , 1.623, 2.14 , 2.055, 1.77 , 1.742,\n",
       "       1.557, 1.74 , 1.604, 1.6  , 1.59 , 1.74 , 2.1  , 1.526, 1.09 ,\n",
       "       1.6  , 1.82 , 1.867, 1.472, 1.496, 1.67 , 1.39 , 1.925, 1.6  ,\n",
       "       1.46 , 1.742, 1.77 , 1.8  , 1.8  , 1.81 , 1.77 , 2.232, 1.969,\n",
       "       1.74 , 1.695, 1.69 , 1.866, 1.604, 1.744, 2.055, 1.488, 1.595,\n",
       "       1.62 , 2.055, 1.604, 1.77 , 1.8  , 1.498, 1.74 , 1.9  , 2.246,\n",
       "       1.77 , 1.688, 1.48 , 1.27 , 1.74 , 1.8  , 2.246, 1.85 , 1.688,\n",
       "       2.14 , 1.54 , 2.004, 1.779, 2.27 , 1.804, 1.706, 1.74 , 2.17 ,\n",
       "       1.77 , 1.99 , 1.77 , 1.77 , 2.26 , 1.6  , 1.818, 1.867, 1.81 ,\n",
       "       2.055, 1.717, 1.778, 1.8  , 1.635, 1.688, 1.77 , 1.81 , 1.77 ,\n",
       "       1.6  , 1.523, 1.54 , 1.65 , 2.23 , 1.93 , 1.54 , 1.82 , 1.27 ,\n",
       "       1.86 , 1.8  , 1.488, 1.67 , 1.66 , 2.17 , 1.6  , 1.712, 1.8  ,\n",
       "       1.916, 1.67 , 1.77 , 1.472, 1.867, 2.45 , 2.246, 2.055, 1.201,\n",
       "       1.81 , 2.055, 1.77 , 1.6  , 1.688, 1.66 , 1.764, 1.804, 2.236,\n",
       "       1.66 , 1.27 , 1.706, 1.36 , 1.925, 2.08 , 2.055, 1.764, 1.77 ,\n",
       "       1.476, 1.8  , 1.755, 2.705, 1.8  , 1.86 , 1.69 , 1.623, 2.08 ,\n",
       "       1.695, 1.57 , 1.8  , 1.74 , 2.04 , 1.706, 1.8  , 1.778, 1.33 ,\n",
       "       1.6  , 1.7  , 1.818, 1.764, 2.27 , 1.51 , 1.804, 1.77 , 1.924,\n",
       "       2.705, 1.472, 1.93 , 1.73 , 1.84 , 1.835, 1.57 , 1.77 , 1.886,\n",
       "       1.811, 1.866, 1.8  , 1.74 , 1.601, 1.8  , 1.6  , 1.09 , 1.51 ,\n",
       "       1.77 , 1.59 , 1.635, 1.62 , 1.81 , 2.14 , 1.64 , 1.6  , 1.49 ,\n",
       "       1.723, 1.706, 1.77 , 1.66 , 1.77 , 1.71 , 1.09 , 1.61 , 2.14 ,\n",
       "       1.81 , 1.71 , 1.85 , 1.886, 1.77 , 2.232, 1.516, 1.67 , 1.516,\n",
       "       1.97 , 1.867, 2.03 , 1.601, 1.595, 1.6  , 1.635, 2.04 , 1.6  ,\n",
       "       1.127, 2.705, 1.43 , 1.46 , 1.557, 1.695, 1.7  , 1.436, 1.635,\n",
       "       1.77 , 1.69 , 1.65 , 1.67 , 1.8  , 1.723, 1.82 , 1.706, 2.27 ,\n",
       "       1.57 , 1.09 , 1.754, 2.23 , 1.46 , 1.864, 1.969, 1.09 , 1.916],\n",
       "      dtype=float16)"
      ]
     },
     "execution_count": 191,
     "metadata": {},
     "output_type": "execute_result"
    }
   ],
   "source": [
    "y_test"
   ]
  },
  {
   "cell_type": "code",
   "execution_count": 192,
   "id": "408df1f8-3c66-422a-bcbd-8f8cddb5479f",
   "metadata": {},
   "outputs": [
    {
     "data": {
      "text/plain": [
       "array([1.828 , 2.012 , 1.716 , 1.929 , 1.791 , 1.747 , 1.817 , 1.819 ,\n",
       "       2.178 , 1.735 , 1.758 , 1.789 , 1.833 , 1.8545, 1.768 , 1.973 ,\n",
       "       1.904 , 1.83  , 1.883 , 1.62  , 1.691 , 1.771 , 1.814 , 1.745 ,\n",
       "       2.047 , 1.831 , 1.788 , 1.797 , 1.758 , 1.866 , 1.88  , 1.758 ,\n",
       "       2.291 , 2.084 , 1.994 , 1.7295, 1.7705, 1.783 , 1.735 , 2.014 ,\n",
       "       1.714 , 1.789 , 1.805 , 1.779 , 1.843 , 1.922 , 1.773 , 1.854 ,\n",
       "       1.7705, 1.777 , 1.837 , 1.819 , 1.926 , 1.815 , 1.716 , 1.674 ,\n",
       "       1.835 , 1.743 , 1.764 , 1.738 , 1.837 , 1.799 , 1.899 , 1.781 ,\n",
       "       1.722 , 1.87  , 1.859 , 1.773 , 1.768 , 2.164 , 1.757 , 1.846 ,\n",
       "       1.827 , 1.896 , 1.802 , 1.776 , 1.703 , 1.71  , 1.789 , 1.966 ,\n",
       "       1.884 , 1.809 , 1.826 , 1.776 , 1.869 , 1.752 , 1.792 , 1.776 ,\n",
       "       1.728 , 1.811 , 1.752 , 1.736 , 1.693 , 1.886 , 1.832 , 1.774 ,\n",
       "       1.787 , 1.79  , 1.836 , 2.254 , 1.782 , 1.618 , 1.844 , 1.836 ,\n",
       "       1.751 , 1.754 , 2.027 , 1.7705, 2.076 , 1.804 , 1.725 , 1.707 ,\n",
       "       1.841 , 1.798 , 1.768 , 1.788 , 1.796 , 1.992 , 1.837 , 1.679 ,\n",
       "       1.821 , 2.059 , 1.788 , 1.762 , 1.795 , 1.939 , 1.862 , 1.764 ,\n",
       "       1.758 , 1.895 , 1.716 , 1.761 , 1.721 , 1.726 , 1.75  , 1.781 ,\n",
       "       1.89  , 1.677 , 1.877 , 2.092 , 1.871 , 1.71  , 2.16  , 1.673 ,\n",
       "       1.746 , 2.123 , 1.821 , 1.721 , 1.837 , 1.802 , 1.906 , 1.826 ,\n",
       "       1.713 , 1.803 , 1.769 , 1.759 , 1.714 , 1.967 , 1.831 , 2.035 ,\n",
       "       1.914 , 1.828 , 1.777 , 1.702 , 1.778 , 1.891 , 1.697 , 1.831 ,\n",
       "       1.928 , 1.794 , 1.803 , 1.803 , 1.839 , 1.704 , 1.796 , 1.854 ,\n",
       "       1.688 , 1.914 , 1.698 , 1.71  , 1.721 , 1.692 , 1.831 , 1.861 ,\n",
       "       2.068 , 1.879 , 1.88  , 1.844 , 1.848 , 1.891 , 1.73  , 1.782 ,\n",
       "       1.803 , 1.704 , 1.827 , 1.755 , 1.839 , 1.718 , 1.824 , 1.856 ,\n",
       "       2.064 , 1.789 , 1.711 , 1.749 , 1.984 , 1.787 , 1.81  , 1.82  ,\n",
       "       1.766 , 1.888 , 1.748 , 1.902 , 2.23  , 1.876 , 1.8125, 1.655 ,\n",
       "       1.836 , 1.8   , 1.778 , 1.739 , 1.803 , 1.79  , 1.921 , 1.755 ,\n",
       "       2.336 , 1.736 , 1.735 , 1.838 , 1.762 , 1.839 , 1.776 , 1.686 ,\n",
       "       1.854 , 1.7295, 1.815 , 1.971 , 1.666 , 1.8125, 1.767 , 1.974 ,\n",
       "       1.864 , 1.797 , 1.914 , 1.678 , 1.777 , 1.701 , 1.704 , 1.768 ,\n",
       "       1.74  , 1.759 , 1.9   , 1.804 , 1.824 , 1.806 , 1.813 , 1.93  ,\n",
       "       1.723 , 1.782 , 1.803 , 1.883 , 1.872 , 1.814 , 1.853 , 1.812 ,\n",
       "       1.856 , 1.75  , 1.7705, 1.774 , 1.8125, 1.855 ], dtype=float16)"
      ]
     },
     "execution_count": 192,
     "metadata": {},
     "output_type": "execute_result"
    }
   ],
   "source": [
    "y_test_preds.astype(\"float16\")"
   ]
  },
  {
   "cell_type": "markdown",
   "id": "4fff53d9-d9fe-4e31-8dc9-553b0242e0af",
   "metadata": {},
   "source": [
    "## EVALUATE ON SELECTED SLICE"
   ]
  },
  {
   "cell_type": "code",
   "execution_count": 193,
   "id": "cccb77af-a0b5-4169-9e0a-bc25d15af999",
   "metadata": {},
   "outputs": [
    {
     "data": {
      "text/html": [
       "<div>\n",
       "<style scoped>\n",
       "    .dataframe tbody tr th:only-of-type {\n",
       "        vertical-align: middle;\n",
       "    }\n",
       "\n",
       "    .dataframe tbody tr th {\n",
       "        vertical-align: top;\n",
       "    }\n",
       "\n",
       "    .dataframe thead th {\n",
       "        text-align: right;\n",
       "    }\n",
       "</style>\n",
       "<table border=\"1\" class=\"dataframe\">\n",
       "  <thead>\n",
       "    <tr style=\"text-align: right;\">\n",
       "      <th></th>\n",
       "      <th>ANILHA</th>\n",
       "      <th>PESO REAL</th>\n",
       "      <th>PESO PREVISTO</th>\n",
       "      <th>ERROR</th>\n",
       "    </tr>\n",
       "  </thead>\n",
       "  <tbody>\n",
       "    <tr>\n",
       "      <th>0</th>\n",
       "      <td>140</td>\n",
       "      <td>1.769531</td>\n",
       "      <td>1.828125</td>\n",
       "      <td>0.058594</td>\n",
       "    </tr>\n",
       "    <tr>\n",
       "      <th>1</th>\n",
       "      <td>52</td>\n",
       "      <td>1.924805</td>\n",
       "      <td>2.011719</td>\n",
       "      <td>0.086914</td>\n",
       "    </tr>\n",
       "    <tr>\n",
       "      <th>2</th>\n",
       "      <td>1</td>\n",
       "      <td>1.540039</td>\n",
       "      <td>1.715820</td>\n",
       "      <td>0.175781</td>\n",
       "    </tr>\n",
       "    <tr>\n",
       "      <th>3</th>\n",
       "      <td>6</td>\n",
       "      <td>2.246094</td>\n",
       "      <td>1.928711</td>\n",
       "      <td>-0.317383</td>\n",
       "    </tr>\n",
       "    <tr>\n",
       "      <th>4</th>\n",
       "      <td>21</td>\n",
       "      <td>1.711914</td>\n",
       "      <td>1.791016</td>\n",
       "      <td>0.079102</td>\n",
       "    </tr>\n",
       "  </tbody>\n",
       "</table>\n",
       "</div>"
      ],
      "text/plain": [
       "   ANILHA  PESO REAL  PESO PREVISTO     ERROR\n",
       "0     140   1.769531       1.828125  0.058594\n",
       "1      52   1.924805       2.011719  0.086914\n",
       "2       1   1.540039       1.715820  0.175781\n",
       "3       6   2.246094       1.928711 -0.317383\n",
       "4      21   1.711914       1.791016  0.079102"
      ]
     },
     "execution_count": 193,
     "metadata": {},
     "output_type": "execute_result"
    }
   ],
   "source": [
    "valuate_result = pd.DataFrame({\n",
    "    \"ANILHA\": anilhas_test.values,\n",
    "    \"PESO REAL\": y_test,\n",
    "    \"PESO PREVISTO\": y_test_preds.astype(\"float16\"),\n",
    "    \"ERROR\": y_test_preds.astype(\"float16\") - y_test\n",
    "})\n",
    "\n",
    "valuate_result.head()"
   ]
  },
  {
   "cell_type": "code",
   "execution_count": 169,
   "id": "1ef254f2-681c-4a28-860b-aa18b11d948f",
   "metadata": {},
   "outputs": [
    {
     "data": {
      "text/plain": [
       "0.057253559027777796"
      ]
     },
     "execution_count": 169,
     "metadata": {},
     "output_type": "execute_result"
    }
   ],
   "source": [
    "valuate_result.ERROR.mean()"
   ]
  },
  {
   "cell_type": "markdown",
   "id": "db33b036-3687-436a-ad97-6b96fe25aba0",
   "metadata": {},
   "source": [
    "## ERROU PARA MAIS"
   ]
  },
  {
   "cell_type": "code",
   "execution_count": 170,
   "id": "5cbf854c-3664-4320-9c42-5c65715e0b27",
   "metadata": {},
   "outputs": [
    {
     "data": {
      "text/html": [
       "<div>\n",
       "<style scoped>\n",
       "    .dataframe tbody tr th:only-of-type {\n",
       "        vertical-align: middle;\n",
       "    }\n",
       "\n",
       "    .dataframe tbody tr th {\n",
       "        vertical-align: top;\n",
       "    }\n",
       "\n",
       "    .dataframe thead th {\n",
       "        text-align: right;\n",
       "    }\n",
       "</style>\n",
       "<table border=\"1\" class=\"dataframe\">\n",
       "  <thead>\n",
       "    <tr style=\"text-align: right;\">\n",
       "      <th></th>\n",
       "      <th>ANILHA</th>\n",
       "      <th>PESO REAL</th>\n",
       "      <th>PESO PREVISTO</th>\n",
       "      <th>ERROR</th>\n",
       "    </tr>\n",
       "  </thead>\n",
       "  <tbody>\n",
       "    <tr>\n",
       "      <th>0</th>\n",
       "      <td>140</td>\n",
       "      <td>1.770</td>\n",
       "      <td>1.828125</td>\n",
       "      <td>0.058125</td>\n",
       "    </tr>\n",
       "    <tr>\n",
       "      <th>1</th>\n",
       "      <td>52</td>\n",
       "      <td>1.925</td>\n",
       "      <td>2.011719</td>\n",
       "      <td>0.086719</td>\n",
       "    </tr>\n",
       "    <tr>\n",
       "      <th>2</th>\n",
       "      <td>1</td>\n",
       "      <td>1.540</td>\n",
       "      <td>1.715820</td>\n",
       "      <td>0.175820</td>\n",
       "    </tr>\n",
       "    <tr>\n",
       "      <th>4</th>\n",
       "      <td>21</td>\n",
       "      <td>1.712</td>\n",
       "      <td>1.791016</td>\n",
       "      <td>0.079016</td>\n",
       "    </tr>\n",
       "    <tr>\n",
       "      <th>5</th>\n",
       "      <td>154</td>\n",
       "      <td>1.720</td>\n",
       "      <td>1.747070</td>\n",
       "      <td>0.027070</td>\n",
       "    </tr>\n",
       "  </tbody>\n",
       "</table>\n",
       "</div>"
      ],
      "text/plain": [
       "   ANILHA  PESO REAL  PESO PREVISTO     ERROR\n",
       "0     140      1.770       1.828125  0.058125\n",
       "1      52      1.925       2.011719  0.086719\n",
       "2       1      1.540       1.715820  0.175820\n",
       "4      21      1.712       1.791016  0.079016\n",
       "5     154      1.720       1.747070  0.027070"
      ]
     },
     "execution_count": 170,
     "metadata": {},
     "output_type": "execute_result"
    }
   ],
   "source": [
    "positive_error = valuate_result[valuate_result.ERROR > 0]\n",
    "\n",
    "positive_error.head()"
   ]
  },
  {
   "cell_type": "code",
   "execution_count": 171,
   "id": "02a11ed6-6723-4e32-89e5-85e6aebb2257",
   "metadata": {},
   "outputs": [
    {
     "data": {
      "text/plain": [
       "0.18048862847222222"
      ]
     },
     "execution_count": 171,
     "metadata": {},
     "output_type": "execute_result"
    }
   ],
   "source": [
    "positive_error.ERROR.mean()"
   ]
  },
  {
   "cell_type": "code",
   "execution_count": 172,
   "id": "7ef02d19-3925-4bb1-abcc-116c26339ffc",
   "metadata": {},
   "outputs": [
    {
     "data": {
      "image/png": "[encoded data removed]",
      "text/plain": [
       "<Figure size 640x480 with 1 Axes>"
      ]
     },
     "metadata": {},
     "output_type": "display_data"
    }
   ],
   "source": [
    "positive_error.plot.scatter(\n",
    "    x=\"PESO PREVISTO\", \n",
    "    y=\"PESO REAL\",\n",
    ");"
   ]
  },
  {
   "cell_type": "markdown",
   "id": "63890aaa-2300-4b44-bdca-b517101403a8",
   "metadata": {},
   "source": [
    "### Há quntos errados para mais ?"
   ]
  },
  {
   "cell_type": "code",
   "execution_count": 173,
   "id": "113d0b70-be23-42f4-bba7-12000a8766b5",
   "metadata": {},
   "outputs": [
    {
     "data": {
      "text/plain": [
       "180"
      ]
     },
     "execution_count": 173,
     "metadata": {},
     "output_type": "execute_result"
    }
   ],
   "source": [
    "len(positive_error)"
   ]
  },
  {
   "cell_type": "markdown",
   "id": "928a1c3d-d730-4178-a459-36f880851068",
   "metadata": {},
   "source": [
    "### QUAIS SÃO AS GALINHAS MAIS DISTANTES DO PESO REAL ?"
   ]
  },
  {
   "cell_type": "code",
   "execution_count": 174,
   "id": "2a54fde3-3127-431c-a7b5-3d1b9d17aa7c",
   "metadata": {},
   "outputs": [
    {
     "data": {
      "text/plain": [
       "<AxesSubplot:>"
      ]
     },
     "execution_count": 174,
     "metadata": {},
     "output_type": "execute_result"
    },
    {
     "data": {
      "image/png": "[encoded data removed]",
      "text/plain": [
       "<Figure size 2000x500 with 1 Axes>"
      ]
     },
     "metadata": {},
     "output_type": "display_data"
    }
   ],
   "source": [
    "plt.figure(figsize = (20, 5))\n",
    "(positive_error.ERROR).sort_values().plot.bar(x=\"ANILHA\", y=\"ERROR\")"
   ]
  },
  {
   "cell_type": "code",
   "execution_count": 180,
   "id": "5c3517ff-f3c3-4030-b125-640777ff97a1",
   "metadata": {},
   "outputs": [
    {
     "data": {
      "text/plain": [
       "90     6\n",
       "2      5\n",
       "40     3\n",
       "55     2\n",
       "161    2\n",
       "157    1\n",
       "127    1\n",
       "159    1\n",
       "4      1\n",
       "45     1\n",
       "57     1\n",
       "64     1\n",
       "33     1\n",
       "71     1\n",
       "16     1\n",
       "133    1\n",
       "80     1\n",
       "110    1\n",
       "105    1\n",
       "43     1\n",
       "9      1\n",
       "145    1\n",
       "39     1\n",
       "124    1\n",
       "91     1\n",
       "147    1\n",
       "117    1\n",
       "41     1\n",
       "68     1\n",
       "Name: ANILHA, dtype: int64"
      ]
     },
     "execution_count": 180,
     "metadata": {},
     "output_type": "execute_result"
    }
   ],
   "source": [
    "positive_error[positive_error.ERROR > 0.25].ANILHA.value_counts()"
   ]
  },
  {
   "cell_type": "markdown",
   "id": "f4d095ae-0520-4c2c-8a93-62c757f28225",
   "metadata": {},
   "source": [
    "### ERROU PARA MENOS"
   ]
  },
  {
   "cell_type": "code",
   "execution_count": 181,
   "id": "04d9aef8-7bc9-4e11-8a75-1582a06c75a7",
   "metadata": {},
   "outputs": [
    {
     "data": {
      "text/html": [
       "<div>\n",
       "<style scoped>\n",
       "    .dataframe tbody tr th:only-of-type {\n",
       "        vertical-align: middle;\n",
       "    }\n",
       "\n",
       "    .dataframe tbody tr th {\n",
       "        vertical-align: top;\n",
       "    }\n",
       "\n",
       "    .dataframe thead th {\n",
       "        text-align: right;\n",
       "    }\n",
       "</style>\n",
       "<table border=\"1\" class=\"dataframe\">\n",
       "  <thead>\n",
       "    <tr style=\"text-align: right;\">\n",
       "      <th></th>\n",
       "      <th>ANILHA</th>\n",
       "      <th>PESO REAL</th>\n",
       "      <th>PESO PREVISTO</th>\n",
       "      <th>ERROR</th>\n",
       "    </tr>\n",
       "  </thead>\n",
       "  <tbody>\n",
       "    <tr>\n",
       "      <th>3</th>\n",
       "      <td>6</td>\n",
       "      <td>2.247</td>\n",
       "      <td>1.928711</td>\n",
       "      <td>-0.318289</td>\n",
       "    </tr>\n",
       "    <tr>\n",
       "      <th>16</th>\n",
       "      <td>36</td>\n",
       "      <td>1.930</td>\n",
       "      <td>1.904297</td>\n",
       "      <td>-0.025703</td>\n",
       "    </tr>\n",
       "    <tr>\n",
       "      <th>17</th>\n",
       "      <td>126</td>\n",
       "      <td>1.924</td>\n",
       "      <td>1.830078</td>\n",
       "      <td>-0.093922</td>\n",
       "    </tr>\n",
       "    <tr>\n",
       "      <th>18</th>\n",
       "      <td>5</td>\n",
       "      <td>1.924</td>\n",
       "      <td>1.882812</td>\n",
       "      <td>-0.041187</td>\n",
       "    </tr>\n",
       "    <tr>\n",
       "      <th>20</th>\n",
       "      <td>151</td>\n",
       "      <td>1.890</td>\n",
       "      <td>1.691406</td>\n",
       "      <td>-0.198594</td>\n",
       "    </tr>\n",
       "  </tbody>\n",
       "</table>\n",
       "</div>"
      ],
      "text/plain": [
       "    ANILHA  PESO REAL  PESO PREVISTO     ERROR\n",
       "3        6      2.247       1.928711 -0.318289\n",
       "16      36      1.930       1.904297 -0.025703\n",
       "17     126      1.924       1.830078 -0.093922\n",
       "18       5      1.924       1.882812 -0.041187\n",
       "20     151      1.890       1.691406 -0.198594"
      ]
     },
     "execution_count": 181,
     "metadata": {},
     "output_type": "execute_result"
    }
   ],
   "source": [
    "negative_error = valuate_result[valuate_result.ERROR < 0]\n",
    "\n",
    "negative_error.head()"
   ]
  },
  {
   "cell_type": "markdown",
   "id": "57736f55-0c69-4211-854f-1e79d596f4a7",
   "metadata": {},
   "source": [
    "### Há quntos errados para menos ?"
   ]
  },
  {
   "cell_type": "code",
   "execution_count": 182,
   "id": "fc243e62-4239-4df4-be18-b0622b61537d",
   "metadata": {},
   "outputs": [
    {
     "data": {
      "text/plain": [
       "90"
      ]
     },
     "execution_count": 182,
     "metadata": {},
     "output_type": "execute_result"
    }
   ],
   "source": [
    "len(negative_error)"
   ]
  },
  {
   "cell_type": "markdown",
   "id": "ac4b991b-c201-4b64-8cac-8930a83f07c6",
   "metadata": {},
   "source": [
    "### QUAIS SÃO AS GALINHAS MAIS DISTANTES DO PESO REAL ?"
   ]
  },
  {
   "cell_type": "code",
   "execution_count": 183,
   "id": "5a2bcaf1-d131-42ad-87e9-ec7391a236e2",
   "metadata": {},
   "outputs": [
    {
     "data": {
      "text/plain": [
       "<AxesSubplot:>"
      ]
     },
     "execution_count": 183,
     "metadata": {},
     "output_type": "execute_result"
    },
    {
     "data": {
      "image/png": "[encoded data removed]",
      "text/plain": [
       "<Figure size 2000x500 with 1 Axes>"
      ]
     },
     "metadata": {},
     "output_type": "display_data"
    }
   ],
   "source": [
    "plt.figure(figsize = (20, 5))\n",
    "(negative_error.ERROR * -1).sort_values().plot.bar(x=\"ANILHA\", y=\"ERROR\")"
   ]
  },
  {
   "cell_type": "code",
   "execution_count": 185,
   "id": "474fc229-5321-4932-a1fb-11683a482495",
   "metadata": {},
   "outputs": [
    {
     "data": {
      "text/plain": [
       "6      4\n",
       "121    3\n",
       "34     2\n",
       "153    2\n",
       "30     2\n",
       "53     2\n",
       "89     2\n",
       "155    2\n",
       "129    1\n",
       "19     1\n",
       "93     1\n",
       "120    1\n",
       "47     1\n",
       "102    1\n",
       "Name: ANILHA, dtype: int64"
      ]
     },
     "execution_count": 185,
     "metadata": {},
     "output_type": "execute_result"
    }
   ],
   "source": [
    "negative_error[negative_error.ERROR < -0.25].ANILHA.value_counts()"
   ]
  },
  {
   "cell_type": "code",
   "execution_count": null,
   "id": "17f13309-5072-4573-b8b6-aa80cc948b34",
   "metadata": {},
   "outputs": [],
   "source": []
  },
  {
   "cell_type": "code",
   "execution_count": null,
   "id": "34789354-e89a-4b9b-8b37-d65043e8652b",
   "metadata": {},
   "outputs": [],
   "source": []
  }
 ],
 "metadata": {
  "kernelspec": {
   "display_name": "Python 3 (ipykernel)",
   "language": "python",
   "name": "python3"
  },
  "language_info": {
   "codemirror_mode": {
    "name": "ipython",
    "version": 3
   },
   "file_extension": ".py",
   "mimetype": "text/x-python",
   "name": "python",
   "nbconvert_exporter": "python",
   "pygments_lexer": "ipython3",
   "version": "3.9.13"
  }
 },
 "nbformat": 4,
 "nbformat_minor": 5
}
